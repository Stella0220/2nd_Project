{
 "cells": [
  {
   "cell_type": "code",
   "execution_count": 1,
   "id": "6fda206d",
   "metadata": {},
   "outputs": [
    {
     "name": "stdout",
     "output_type": "stream",
     "text": [
      "공분산: -44.92\n",
      "상관계수: -0.96\n",
      "P-value: 0.00001\n",
      "                            OLS Regression Results                            \n",
      "==============================================================================\n",
      "Dep. Variable:               bir_rate   R-squared:                       0.921\n",
      "Model:                            OLS   Adj. R-squared:                  0.911\n",
      "Method:                 Least Squares   F-statistic:                     93.25\n",
      "Date:                Fri, 22 Nov 2024   Prob (F-statistic):           1.10e-05\n",
      "Time:                        15:23:22   Log-Likelihood:                -21.544\n",
      "No. Observations:                  10   AIC:                             47.09\n",
      "Df Residuals:                       8   BIC:                             47.69\n",
      "Df Model:                           1                                         \n",
      "Covariance Type:            nonrobust                                         \n",
      "================================================================================\n",
      "                   coef    std err          t      P>|t|      [0.025      0.975]\n",
      "--------------------------------------------------------------------------------\n",
      "const           78.8769      4.779     16.505      0.000      67.856      89.897\n",
      "career_break    -1.2552      0.130     -9.657      0.000      -1.555      -0.955\n",
      "==============================================================================\n",
      "Omnibus:                        1.422   Durbin-Watson:                   0.997\n",
      "Prob(Omnibus):                  0.491   Jarque-Bera (JB):                0.827\n",
      "Skew:                          -0.327   Prob(JB):                        0.661\n",
      "Kurtosis:                       1.753   Cond. No.                         238.\n",
      "==============================================================================\n",
      "\n",
      "Notes:\n",
      "[1] Standard Errors assume that the covariance matrix of the errors is correctly specified.\n"
     ]
    },
    {
     "name": "stderr",
     "output_type": "stream",
     "text": [
      "C:\\Users\\user\\anaconda3\\lib\\site-packages\\scipy\\stats\\stats.py:1541: UserWarning: kurtosistest only valid for n>=20 ... continuing anyway, n=10\n",
      "  warnings.warn(\"kurtosistest only valid for n>=20 ... continuing \"\n"
     ]
    },
    {
     "data": {
      "image/png": "[encoded data removed]",
      "text/plain": [
       "<Figure size 720x432 with 1 Axes>"
      ]
     },
     "metadata": {
      "needs_background": "light"
     },
     "output_type": "display_data"
    },
    {
     "name": "stdout",
     "output_type": "stream",
     "text": [
      "1.3855583347321953e-14\n"
     ]
    }
   ],
   "source": [
    "# 육아로 인한 경력단절 비율 대비 출산율 변동 \n",
    "\n",
    "import pandas as pd\n",
    "import numpy as np\n",
    "import statsmodels.api as sm\n",
    "import scipy.stats as stats\n",
    "import matplotlib.pyplot as plt\n",
    "from matplotlib import font_manager, rc\n",
    "\n",
    "data2 = {\n",
    "    'career_break': [29.21, 29.81, 30.04, 32, 33.51, 38.2, 42.5, 43.23, 42.73, 42.03],  # 육아로 인한 경력단절 (단위: %)\n",
    "    'bir_rate': [43.9, 44.4, 41.2, 36.2, 33.4, 30.8, 27.6, 26.3, 25.5, 23.5]   # 출생율 (단위: 만명)\n",
    "}\n",
    "\n",
    "df2 = pd.DataFrame(data2)\n",
    "\n",
    "x= df2['career_break']\n",
    "y = df2['bir_rate']\n",
    "\n",
    "# 상관계수, 공분산 - 두 변수 상관 정도 + p-value\n",
    "print('공분산: {:.2f}'.format(np.cov(x,y)[0,1])) # -48.53\n",
    "\n",
    "print('상관계수: {:.2f}'.format(stats.pearsonr(x,y)[0])) # -0.9\n",
    "\n",
    "# -1 < (상관계수) < 1 \n",
    "# => 1에 가까울 수록 강한 양의 상관관계\n",
    "# => -1에 가까울 수록 강한 음의 상관관계\n",
    "print('P-value: {:.5f}'.format(stats.pearsonr(x,y)[1])) # 0.0003\n",
    "\n",
    "# 가설 검증\n",
    "x2= sm.add_constant(x) # 절편 만들기 \n",
    "\n",
    "m2 = sm.OLS(y, x2).fit()\n",
    "\n",
    "print(m2.summary())\n",
    "\n",
    "# 한글 폰트\n",
    "font_path='NanumGothic.ttf' \n",
    "font_name=font_manager.FontProperties(fname=font_path).get_name()\n",
    "rc('font',family=font_name) \n",
    "\n",
    "# 시각화\n",
    "plt.figure(figsize=(10,6))\n",
    "plt.scatter(df2['career_break'], df2['bir_rate'], color='red', label='실제값')\n",
    "plt.plot(df2['career_break'], m2.fittedvalues, color='blue', label='회귀선')\n",
    "plt.xlabel('육아로 인한 경력 단절 비율(%)')\n",
    "plt.ylabel('출산율(만 명)')\n",
    "plt.title('육아로 인한 경력 단절 대비 출산율 변화 추이')\n",
    "plt.savefig('육아로 인한 경력단절 대비 출산율 변화 추이.jpg')\n",
    "plt.legend()\n",
    "plt.show()\n",
    "\n",
    "# 가설검증 관련 필수 포함 내용\n",
    "# 잔차의 평균은 1.3855583347321953e-14로 0에 가깝고, \n",
    "# 결정계수(R-Squared) : 0.921 로 0.7보다 크기 때문에 해당 회귀식 신뢰도가 높다\n",
    "# 상관계수는 -0.96 로 강한 음의 상관성을 띈다 \n",
    "# p-value는 0.000011 이므로 p < 0.05 이기 때문에 영가설 기각, 대립가설 채택\n",
    "# 따라서, 육아로 인한 경력단절 비율이 오를수록, 출산 정도가 약 1만 2천명씩 감소한다\n",
    "\n",
    "# 잔차의 평균\n",
    "\n",
    "residuals = y - m2.fittedvalues\n",
    "print(residuals.mean()) \n"
   ]
  }
 ],
 "metadata": {
  "kernelspec": {
   "display_name": "Python 3 (ipykernel)",
   "language": "python",
   "name": "python3"
  },
  "language_info": {
   "codemirror_mode": {
    "name": "ipython",
    "version": 3
   },
   "file_extension": ".py",
   "mimetype": "text/x-python",
   "name": "python",
   "nbconvert_exporter": "python",
   "pygments_lexer": "ipython3",
   "version": "3.9.12"
  }
 },
 "nbformat": 4,
 "nbformat_minor": 5
}
